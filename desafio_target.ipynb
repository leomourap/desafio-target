{
 "cells": [
  {
   "cell_type": "markdown",
   "id": "ce83ea52",
   "metadata": {},
   "source": [
    "# Desafio para vaga (Estágio Análise e Desenvolvimento) - Target\n",
    "# Candidato: Leonardo Moura Giglio\n",
    "Resolvi todos os desafios utilizando Python (é a minha linguagem favorita)."
   ]
  },
  {
   "cell_type": "markdown",
   "id": "c1ae8b91",
   "metadata": {},
   "source": [
    "# 1)\n",
    "Observe o trecho de código abaixo:\n",
    "\n",
    "int INDICE = 13, SOMA = 0, K = 0;\n",
    "\n",
    "enquanto K < INDICE faça\n",
    "{\n",
    "K = K + 1;\n",
    "SOMA = SOMA + K;\n",
    "}\n",
    "\n",
    "imprimir(SOMA);\n",
    "\n",
    "Ao final do processamento, qual será o valor da variável SOMA?"
   ]
  },
  {
   "cell_type": "code",
   "execution_count": 4,
   "id": "3f1f2fb9",
   "metadata": {},
   "outputs": [
    {
     "name": "stdout",
     "output_type": "stream",
     "text": [
      "91\n",
      "13\n",
      "----------------------------------------\n",
      "A resposta é 91!\n"
     ]
    }
   ],
   "source": [
    "INDICE = 13\n",
    "SOMA = 0\n",
    "K=0\n",
    "\n",
    "while K<INDICE:\n",
    "    K=K+1\n",
    "    SOMA=SOMA+K\n",
    "    \n",
    "\n",
    "print(SOMA)\n",
    "print(K)\n",
    "print('-'*40)\n",
    "print(\"A resposta é 91!\")"
   ]
  },
  {
   "cell_type": "markdown",
   "id": "cfdc1d3b",
   "metadata": {},
   "source": [
    "## 2)\n",
    "Dado a sequência de Fibonacci, onde se inicia por 0 e 1 e o próximo valor sempre será a soma dos 2 valores anteriores (exemplo: 0, 1, 1, 2, 3, 5, 8, 13, 21, 34...), escreva um programa na linguagem que desejar onde, informado um número, ele calcule a sequência de Fibonacci e retorne uma mensagem avisando se o número informado pertence ou não a sequência.\n",
    "\n",
    "IMPORTANTE:\n",
    "Esse número pode ser informado através de qualquer entrada de sua preferência ou pode ser previamente definido no código;\n"
   ]
  },
  {
   "cell_type": "code",
   "execution_count": 7,
   "id": "fab461c8",
   "metadata": {},
   "outputs": [
    {
     "name": "stdout",
     "output_type": "stream",
     "text": [
      "21 pertence à sequência de Fibonacci\n",
      "22 não pertence à sequência de Fibonacci\n"
     ]
    }
   ],
   "source": [
    "def fibonacci_sequence(n):\n",
    "    # Cria uma lista com os valores iniciais da sequência de Fibonacci\n",
    "    fibonacci = [0, 1]\n",
    "    \n",
    "    # Adiciona novos valores à lista até atingir o valor n ou um valor maior que n\n",
    "    while fibonacci[-1] < n:\n",
    "        next_value = fibonacci[-1] + fibonacci[-2]\n",
    "        fibonacci.append(next_value)\n",
    "        \n",
    "    # Verifica se o número n está presente na lista\n",
    "    if n in fibonacci:\n",
    "        return f\"{n} pertence à sequência de Fibonacci.\"\n",
    "    else:\n",
    "        return f\"{n} não pertence à sequência de Fibonacci.\"\n",
    "\n",
    "# Exemplo de uso: verifica se o número 21 está presente na sequência de Fibonacci\n",
    "print(fibonacci_sequence(21))\n",
    "print(fibonacci_sequence(22))"
   ]
  },
  {
   "cell_type": "markdown",
   "id": "1da0e41b",
   "metadata": {},
   "source": [
    "## 3) \n",
    "Dado um vetor que guarda o valor de faturamento diário de uma distribuidora, faça um programa, na linguagem que desejar, que calcule e retorne:\n",
    "• O menor valor de faturamento ocorrido em um dia do mês;\n",
    "• O maior valor de faturamento ocorrido em um dia do mês;\n",
    "• Número de dias no mês em que o valor de faturamento diário foi superior à média mensal.\n",
    "\n",
    "IMPORTANTE:\n",
    "a) Usar o json ou xml disponível como fonte dos dados do faturamento mensal;\n",
    "b) Podem existir dias sem faturamento, como nos finais de semana e feriados. Estes dias devem ser ignorados no cálculo da média;\n",
    "\n",
    "#### PS: Utilizei o arquivo \"dados.json\" - tinha dois arquivos para serem utilizados, algo que ficou meio confuso. Mas o código seria praticamente igual para o outro arquivo \"dados (2).xml\", com apenas mudanças em pequenos detalhes."
   ]
  },
  {
   "cell_type": "code",
   "execution_count": 10,
   "id": "f78a40cf",
   "metadata": {},
   "outputs": [
    {
     "name": "stdout",
     "output_type": "stream",
     "text": [
      "Menor valor de faturamento diário: 0.0 - incluindo dias sem faturamento\n",
      "Menor valor de faturamento diário: 373.7838 - sem os zeros.\n",
      "Maior valor de faturamento diário: 48924.2448\n",
      "Número de dias com faturamento superior à média mensal: 10\n"
     ]
    }
   ],
   "source": [
    "import json\n",
    "\n",
    "# Lê o arquivo JSON com os dados de faturamento\n",
    "with open('dados.json', 'r') as f:\n",
    "    faturamento_json = json.load(f)\n",
    "\n",
    "# Cria uma lista com os valores de faturamento diário\n",
    "faturamento_diario = [dia['valor'] for dia in faturamento_json]\n",
    "\n",
    "# Calcula o menor e o maior valor de faturamento diário\n",
    "menor_valor = min(faturamento_diario)\n",
    "maior_valor = max(faturamento_diario)\n",
    "\n",
    "# Calcula a média de faturamento diário, ignorando dias sem faturamento (0)\n",
    "dias_com_faturamento = [valor for valor in faturamento_diario if valor > 0]\n",
    "media_mensal = sum(dias_com_faturamento) / len(dias_com_faturamento)\n",
    "\n",
    "menor_valor_faturamento = min(dias_com_faturamento)\n",
    "\n",
    "# Calcula o número de dias com faturamento superior à média mensal\n",
    "dias_acima_media = sum(1 for valor in dias_com_faturamento if valor > media_mensal)\n",
    "\n",
    "# Imprime os resultados\n",
    "print(f\"Menor valor de faturamento diário: {menor_valor} - incluindo dias sem faturamento\")\n",
    "print(f\"Menor valor de faturamento diário: {menor_valor_faturamento} - sem os zeros.\")\n",
    "print(f\"Maior valor de faturamento diário: {maior_valor}\")\n",
    "print(f\"Número de dias com faturamento superior à média mensal: {dias_acima_media}\")"
   ]
  },
  {
   "cell_type": "markdown",
   "id": "886d60d9",
   "metadata": {},
   "source": [
    "## 4)\n",
    "Dado o valor de faturamento mensal de uma distribuidora, detalhado por estado:\n",
    "\n",
    "SP – R$67.836,43\n",
    "RJ – R$36.678,66\n",
    "MG – R$29.229,88\n",
    "ES – R$27.165,48\n",
    "Outros – R$19.849,53\n",
    "\n",
    "Escreva um programa na linguagem que desejar onde calcule o percentual de representação que cada estado teve dentro do valor total mensal da distribuidora."
   ]
  },
  {
   "cell_type": "code",
   "execution_count": 11,
   "id": "4ac2a4bb",
   "metadata": {},
   "outputs": [
    {
     "name": "stdout",
     "output_type": "stream",
     "text": [
      "SP: 37.53%\n",
      "RJ: 20.29%\n",
      "MG: 16.17%\n",
      "ES: 15.03%\n",
      "Outros: 10.98%\n"
     ]
    }
   ],
   "source": [
    "# Define o valor de faturamento mensal por estado\n",
    "faturamento_por_estado = {\n",
    "    'SP': 67836.43,\n",
    "    'RJ': 36678.66,\n",
    "    'MG': 29229.88,\n",
    "    'ES': 27165.48,\n",
    "    'Outros': 19849.53\n",
    "}\n",
    "\n",
    "# Calcula o valor total mensal da distribuidora\n",
    "valor_total = sum(faturamento_por_estado.values())\n",
    "\n",
    "# Calcula o percentual de representação de cada estado\n",
    "percentuais = {estado: (valor / valor_total) * 100 for estado, valor in faturamento_por_estado.items()}\n",
    "\n",
    "# Imprime os resultados\n",
    "for estado, percentual in percentuais.items():\n",
    "    print(f\"{estado}: {percentual:.2f}%\")"
   ]
  },
  {
   "cell_type": "markdown",
   "id": "b1da5571",
   "metadata": {},
   "source": [
    "## 5) \n",
    "Escreva um programa que inverta os caracteres de um string.\n",
    "\n",
    "IMPORTANTE:\n",
    "a) Essa string pode ser informada através de qualquer entrada de sua preferência ou pode ser previamente definida no código;\n",
    "b) Evite usar funções prontas, como, por exemplo, reverse;"
   ]
  },
  {
   "cell_type": "code",
   "execution_count": 12,
   "id": "c272e066",
   "metadata": {},
   "outputs": [
    {
     "name": "stdout",
     "output_type": "stream",
     "text": [
      "String original: Hello, world!\n",
      "String invertida: !dlrow ,olleH\n"
     ]
    }
   ],
   "source": [
    "# Define a string a ser invertida\n",
    "string_original = \"Hello, world!\"\n",
    "\n",
    "# Inicializa a string invertida como uma string vazia\n",
    "string_invertida = \"\"\n",
    "\n",
    "# Percorre a string original de trás para frente e adiciona cada caractere na string invertida\n",
    "for i in range(len(string_original)-1, -1, -1):\n",
    "    string_invertida += string_original[i]\n",
    "\n",
    "# Imprime a string original e a string invertida\n",
    "print(\"String original:\", string_original)\n",
    "print(\"String invertida:\", string_invertida)"
   ]
  }
 ],
 "metadata": {
  "kernelspec": {
   "display_name": "Python 3 (ipykernel)",
   "language": "python",
   "name": "python3"
  },
  "language_info": {
   "codemirror_mode": {
    "name": "ipython",
    "version": 3
   },
   "file_extension": ".py",
   "mimetype": "text/x-python",
   "name": "python",
   "nbconvert_exporter": "python",
   "pygments_lexer": "ipython3",
   "version": "3.9.13"
  }
 },
 "nbformat": 4,
 "nbformat_minor": 5
}
